{
  "nbformat": 4,
  "nbformat_minor": 0,
  "metadata": {
    "colab": {
      "provenance": [],
      "authorship_tag": "ABX9TyMWy/aqFOXcj4W36Ye3CTfE",
      "include_colab_link": true
    },
    "kernelspec": {
      "name": "python3",
      "display_name": "Python 3"
    },
    "language_info": {
      "name": "python"
    }
  },
  "cells": [
    {
      "cell_type": "markdown",
      "metadata": {
        "id": "view-in-github",
        "colab_type": "text"
      },
      "source": [
        "<a href=\"https://colab.research.google.com/github/rakshithcgowda/Machine-project/blob/main/Mean_variance_optimization.ipynb\" target=\"_parent\"><img src=\"https://colab.research.google.com/assets/colab-badge.svg\" alt=\"Open In Colab\"/></a>"
      ]
    },
    {
      "cell_type": "code",
      "execution_count": null,
      "metadata": {
        "id": "XBbyBIQm1u1A"
      },
      "outputs": [],
      "source": [
        "import numpy as np\n",
        "import pandas as pd\n",
        "import scipy.optimize as sco\n",
        "import matplotlib.pyplot as plt\n",
        "\n",
        "# Example: Sample portfolio data with random stock returns\n",
        "np.random.seed(42)\n",
        "returns = np.random.normal(0.001, 0.01, (1000, 4))  # Simulate daily returns for 4 assets over 1000 days\n",
        "assets = ['Stock A', 'Stock B', 'Stock C', 'Stock D']\n",
        "df = pd.DataFrame(returns, columns=assets)\n",
        "\n",
        "# Calculate mean returns and covariance matrix\n",
        "mean_returns = df.mean() * 252  # Annualized mean returns (assuming 252 trading days)\n",
        "cov_matrix = df.cov() * 252  # Annualized covariance matrix\n",
        "\n",
        "# Define functions for portfolio performance: returns and volatility (standard deviation)\n",
        "def portfolio_performance(weights, mean_returns, cov_matrix):\n",
        "    portfolio_return = np.sum(weights * mean_returns)\n",
        "    portfolio_volatility = np.sqrt(np.dot(weights.T, np.dot(cov_matrix, weights)))\n",
        "    return portfolio_return, portfolio_volatility\n",
        "\n",
        "# Define objective function: minimize volatility (risk)\n",
        "def minimize_volatility(weights, mean_returns, cov_matrix):\n",
        "    return portfolio_performance(weights, mean_returns, cov_matrix)[1]\n",
        "\n",
        "# Constraints: Sum of weights must equal 1 (fully invested)\n",
        "constraints = ({'type': 'eq', 'fun': lambda x: np.sum(x) - 1})\n",
        "bounds = tuple((0, 1) for _ in range(len(assets)))  # Weights between 0 and 1\n",
        "\n",
        "# Initial guess for weights\n",
        "initial_guess = len(assets) * [1. / len(assets)]  # Equal weight distribution\n",
        "\n",
        "# Optimization: Minimize risk (volatility) subject to the constraints\n",
        "result = sco.minimize(minimize_volatility, initial_guess, args=(mean_returns, cov_matrix),\n",
        "                      method='SLSQP', bounds=bounds, constraints=constraints)\n",
        "\n",
        "# Extract the optimal weights\n",
        "optimal_weights = result.x\n",
        "\n",
        "# Calculate optimal portfolio performance\n",
        "optimal_return, optimal_volatility = portfolio_performance(optimal_weights, mean_returns, cov_matrix)\n",
        "\n",
        "# Display results\n",
        "print(\"Optimal Weights:\", dict(zip(assets, optimal_weights)))\n",
        "print(\"Expected Portfolio Return: {:.2f}%\".format(optimal_return * 100))\n",
        "print(\"Expected Portfolio Volatility (Risk): {:.2f}%\".format(optimal_volatility * 100))\n",
        "\n",
        "# Visualize optimal portfolio weights\n",
        "plt.figure(figsize=(10, 6))\n",
        "plt.pie(optimal_weights, labels=assets, autopct='%1.1f%%', startangle=90)\n",
        "plt.title(\"Optimal Portfolio Allocation\")\n",
        "plt.show()"
      ]
    }
  ]
}